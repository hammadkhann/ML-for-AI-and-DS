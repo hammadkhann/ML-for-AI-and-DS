{
 "cells": [
  {
   "cell_type": "markdown",
   "metadata": {},
   "source": [
    "# Case Study 1\n",
    "\n",
    "#### Predicting Central Neuropathic Pain (CNP) in people with Spinal Cord Injury (SCI) from Electroencephalogram (EEG) data.\n",
    "\n",
    "* CNP is pain in response to non-painful stimuli, episodic (electric shock), “pins and needles”, numbness\n",
    "* There is currently no treatment, only prevention\n",
    "* Preventative medications have strong side-effects\n",
    "* Predicting whether a patient is likely to develop pain is useful for selective treatment\n",
    "\n",
    "#### Task\n",
    "Your task is to devise a feature engineering strategy which, in combination with a classifier of your choice, optizimes prediction accuracy.\n",
    "\n",
    "#### Data\n",
    "The data is preprocessed brain EEG data from SCI patients recorded while resting with eyes closed (EC) and eyes opened (EO).\n",
    "* 48 electrodes recording electrical activity of the brain at 250 Hz \n",
    "* 2 classes: subject will / will not develop neuropathic pain within 6 months\n",
    "* 18 subjects: 10 developed pain and 8 didn’t develop pain\n",
    "* the data has already undergone some preprocessing\n",
    "  * Signal denoising and normalization\n",
    "  * Temporal segmentation\n",
    "  * Frequency band power estimation\n",
    "  * Normalization with respect to total band power\n",
    "  * Features include normalized alpha, beta, theta band power while eyes closed, eyes opened, and taking the ratio of eo/ec.\n",
    "* the data is provided in a single table ('data.csv') consisting of \n",
    "  * 180 rows (18 subjects x 10 repetitions), each containing\n",
    "  * 432 columns (9 features x 48 electrodes)\n",
    "  * rows are in subject major order, i.e. rows 0-9 are all samples from subject 0, rows 10-19 all samples from subject 1, etc.\n",
    "  * columns are in feature_type major order, i.e. columns 0-47 are alpha band power, eyes closed, electrodes 0-48\n",
    "  * feature identifiers for all columns are stored in 'feature_names.csv'\n",
    "  * 'labels.csv' defines the corresponding class (0 or 1) to each row in data.csv\n",
    "\n",
    "#### Objective Measure\n",
    "Leave one subject out cross-validation accuracy, sensitivity and specificity.\n",
    "\n",
    "#### Report\n",
    "Report on your feature engineering pipeline, the classifier used to evaluate performance, and the performance as mean and standard deviation of accuracy, sensitivity and specificity across folds. Give evidence for why your strategy is better than others.\n",
    "\n",
    "\n"
   ]
  },
  {
   "cell_type": "markdown",
   "metadata": {},
   "source": [
    "# Import Libraries"
   ]
  },
  {
   "cell_type": "code",
   "execution_count": 21,
   "metadata": {},
   "outputs": [],
   "source": [
    "import warnings\n",
    "import csv\n",
    "import numpy as np\n",
    "import pandas as pd\n",
    "import scipy\n",
    "\n",
    "# Settings\n",
    "warnings.filterwarnings('ignore')\n",
    "pd.set_option('display.max_columns', 10000)  # or 1000\n",
    "pd.set_option('display.max_rows', 10000)  # or 1000\n",
    "pd.set_option('display.max_colwidth', 10000)  # or 199\n",
    "\n",
    "# Plotting\n",
    "from matplotlib import pyplot as plt\n",
    "from IPython.display import display\n",
    "\n",
    "# Metrics\n",
    "from sklearn.metrics import roc_curve, auc, accuracy_score, confusion_matrix, roc_auc_score\n",
    "from sklearn import metrics\n",
    "\n",
    "# Model/Feature selection\n",
    "from sklearn.model_selection import GroupShuffleSplit, LeaveOneGroupOut, KFold, cross_val_score, GridSearchCV\n",
    "from sklearn.feature_selection import RFE, SelectFromModel, RFECV,  chi2, SelectKBest, f_classif, mutual_info_classif, f_regression\n",
    "\n",
    "# Pipeline\n",
    "from sklearn.pipeline import make_pipeline, Pipeline\n",
    "\n",
    "# Classifiers\n",
    "from sklearn.linear_model import LogisticRegression, Lasso, LassoCV\n",
    "from sklearn.neighbors import KNeighborsClassifier\n",
    "from sklearn.svm import SVC\n",
    "from sklearn.ensemble import RandomForestClassifier\n",
    "from sklearn.naive_bayes import GaussianNB\n",
    "\n",
    "# Projection\n",
    "from sklearn.decomposition import PCA\n",
    "import sklearn.manifold\n",
    "import umap.umap_ as umap\n",
    "\n",
    "# Scaling\n",
    "from sklearn.preprocessing import StandardScaler"
   ]
  },
  {
   "cell_type": "markdown",
   "metadata": {},
   "source": [
    "# Load data"
   ]
  },
  {
   "cell_type": "code",
   "execution_count": 3,
   "metadata": {},
   "outputs": [],
   "source": [
    "# rows in X are subject major order, i.e. rows 0-9 are all samples from subject 0, rows 10-19 all samples from subject 1, etc.\n",
    "# columns in X are in feature_type major order, i.e. columns 0-47 are alpha band power, eyes closed, electrodes 0-48\n",
    "# feature identifiers for all columns in X are stored in feature_names.csv\n",
    "X = np.loadtxt('data.csv', delimiter=',') \n",
    "y = np.loadtxt('labels.csv', delimiter=',')\n",
    "with open('feature_names.csv') as f:\n",
    "    csvreader = csv.reader(f, delimiter=',')\n",
    "    feature_names = [row for row in csvreader][0]"
   ]
  },
  {
   "cell_type": "markdown",
   "metadata": {},
   "source": [
    "# Defining Models and Cross Validation Scheme"
   ]
  },
  {
   "cell_type": "code",
   "execution_count": 4,
   "metadata": {},
   "outputs": [],
   "source": [
    "models = [\n",
    "          ('LogReg', LogisticRegression()), \n",
    "          ('KNN', KNeighborsClassifier()),\n",
    "          ('SVM', SVC(kernel='linear')), \n",
    "        ]\n",
    "rfecv_models = [\n",
    "                ('LogReg', LogisticRegression()),\n",
    "                ('SVM', SVC(kernel='linear'))\n",
    "               ]\n",
    "scaler = StandardScaler()\n",
    "kf = KFold(n_splits=18, shuffle=False)"
   ]
  },
  {
   "cell_type": "code",
   "execution_count": 5,
   "metadata": {},
   "outputs": [
    {
     "name": "stdout",
     "output_type": "stream",
     "text": [
      "1.0\n",
      "0.8999999999999999\n",
      "[1.0, 1.0, 1.0, 1.0, 1.0, 1.0, 1.0, 1.0, 1.0, 1.0, 1.0, 1.0, 1.0, 1.0, 1.0, 1.0, 1.0, 1.0]\n",
      "[0.6, 0.9, 0.9, 0.9, 0.9, 0.9, 0.9, 1.0, 1.0, 1.0, 0.9, 1.0, 0.9, 1.0, 0.8, 0.8, 0.9, 0.9]\n"
     ]
    }
   ],
   "source": [
    "#Check if model is overfitting:\n",
    "trains = []\n",
    "tests = []\n",
    "#model = KNeighborsClassifier() \n",
    "#model = LogisticRegression(C=0.05)\n",
    "model = SVC(kernel='linear')   \n",
    "for train_index, test_index in kf.split(X):\n",
    "    X_train, X_test = X[train_index], X[test_index]\n",
    "    y_train, y_test = y[train_index], y[test_index]\n",
    "    #Applying Scaling\n",
    "    X_train = scaler.fit_transform(X_train)\n",
    "    X_test = scaler.transform(X_test)\n",
    "    model.fit(X_train, y_train)\n",
    "    y_p_train = model.predict(X_train)\n",
    "    train_acc = accuracy_score(y_train, y_p_train)\n",
    "    y_p_test = model.predict(X_test)\n",
    "    test_acc = accuracy_score(y_test, y_p_test)\n",
    "    trains.append(train_acc)\n",
    "    tests.append(test_acc)\n",
    "print(np.mean(trains))\n",
    "print(np.mean(tests))\n",
    "print(trains)\n",
    "print(tests)"
   ]
  },
  {
   "cell_type": "code",
   "execution_count": 6,
   "metadata": {},
   "outputs": [
    {
     "data": {
      "image/png": "[encoded data removed]",
      "text/plain": [
       "<Figure size 432x288 with 2 Axes>"
      ]
     },
     "metadata": {
      "needs_background": "light"
     },
     "output_type": "display_data"
    }
   ],
   "source": [
    "plt.subplot(1,2,1)\n",
    "plt.plot(range(1, kf.get_n_splits() + 1), np.array(trains).ravel(), 'o-')\n",
    "plt.xlabel('number of fold')\n",
    "plt.ylabel('training error')\n",
    "plt.title('Training error across folds')\n",
    "plt.tight_layout()\n",
    "plt.subplot(1,2,2)\n",
    "plt.plot(range(1, kf.get_n_splits() + 1), np.array(tests).ravel(), 'o-')\n",
    "plt.xlabel('number of fold')\n",
    "plt.ylabel('testing error')\n",
    "plt.title('Testing error across folds')\n",
    "plt.tight_layout()\n",
    "plt.show()"
   ]
  },
  {
   "cell_type": "markdown",
   "metadata": {},
   "source": [
    "# Evaluation Functions"
   ]
  },
  {
   "cell_type": "code",
   "execution_count": 7,
   "metadata": {},
   "outputs": [],
   "source": [
    "def evaluate(models, data, kf):\n",
    "    results = []\n",
    "    for name, model in models:\n",
    "        sensitivity, specificity, accuracy, y_pred, y_true = [], [], [], [], []\n",
    "        # train loop\n",
    "        for train_index, test_index in kf.split(data):\n",
    "            #data = scaler.fit_transform(data)\n",
    "            X_train, X_test = data[train_index], data[test_index]\n",
    "            y_train, y_test = y[train_index], y[test_index]\n",
    "            #Applying Scaling\n",
    "            X_train = scaler.fit_transform(X_train)\n",
    "            X_test = scaler.transform(X_test)\n",
    "            model.fit(X_train, y_train)\n",
    "            y_model_predict = model.predict(X_test)\n",
    "            y_pred.extend(y_model_predict)\n",
    "            y_true.extend(y_test)\n",
    "            accuracy.append(accuracy_score(y_test, y_model_predict))\n",
    "        # calculate metrics\n",
    "        tn, fp, fn, tp = confusion_matrix(y_true, y_pred).ravel()\n",
    "        auc = roc_auc_score(y_true, y_pred)\n",
    "        sensitivity = tp / (tp + fn)\n",
    "        specificity = tn / (fp + tn)\n",
    "        res = {\n",
    "            \"model\": name,\n",
    "            \"mean_accuracy\": np.mean(accuracy),\n",
    "            \"std_accuracy\": np.std(accuracy),\n",
    "            \"sensitivity\": sensitivity,\n",
    "            \"specificity\": specificity,\n",
    "            \"auc\": auc,\n",
    "        }\n",
    "        results.append(res)\n",
    "    return pd.DataFrame.from_dict(results)"
   ]
  },
  {
   "cell_type": "code",
   "execution_count": 8,
   "metadata": {},
   "outputs": [],
   "source": [
    "def evaluate_model(model, data, kf):\n",
    "    results = []\n",
    "    sensitivity, specificity, accuracy, y_pred, y_true = [], [], [], [], []\n",
    "    # train loop\n",
    "    for train_index, test_index in kf.split(data):\n",
    "        X_train, X_test = data[train_index], data[test_index]\n",
    "        y_train, y_test = y[train_index], y[test_index]\n",
    "        #Applying Scaling\n",
    "        X_train = scaler.fit_transform(X_train)\n",
    "        X_test = scaler.transform(X_test)\n",
    "        model.fit(X_train, y_train)\n",
    "        y_model_predict = model.predict(X_test)\n",
    "        y_pred.extend(y_model_predict)\n",
    "        y_true.extend(y_test)\n",
    "        accuracy.append(accuracy_score(y_test, y_model_predict))\n",
    "    # calculate metrics\n",
    "    tn, fp, fn, tp = confusion_matrix(y_true, y_pred).ravel()\n",
    "    auc = roc_auc_score(y_true, y_pred)\n",
    "    sensitivity = tp / (tp + fn)\n",
    "    specificity = tn / (fp + tn)\n",
    "    res = {\n",
    "        \"model\": name,\n",
    "        \"mean_accuracy\": np.mean(accuracy),\n",
    "        \"std_accuracy\": np.std(accuracy),\n",
    "        \"sensitivity\": sensitivity,\n",
    "        \"specificity\": specificity,\n",
    "        \"auc\": auc,\n",
    "    }\n",
    "    results.append(res)\n",
    "    return pd.DataFrame.from_dict(results)"
   ]
  },
  {
   "cell_type": "code",
   "execution_count": 9,
   "metadata": {},
   "outputs": [],
   "source": [
    "def lasso_evaluation(model, X, y, kf, alpha_space):\n",
    "    results = []\n",
    "    for alpha in alpha_space:\n",
    "        model.named_steps['lt'].alpha = alpha\n",
    "        sensitivity, specificity, accuracy, y_pred, y_true = [], [], [], [], []\n",
    "        for train_index, test_index in kf.split(X):\n",
    "            X_train, X_test = X[train_index], X[test_index]\n",
    "            y_train, y_test = y[train_index], y[test_index]\n",
    "            model.fit(X_train, y_train)\n",
    "            y_model_predict = model.predict(X_test)\n",
    "            y_pred.extend(y_model_predict)\n",
    "            y_true.extend(y_test)\n",
    "            accuracy.append(accuracy_score(y_test, y_model_predict))\n",
    "        # calculate metrics\n",
    "        feature_size = model.named_steps['lt'].transform(X_train).shape[1]\n",
    "        tn, fp, fn, tp = confusion_matrix(y_true, y_pred).ravel()\n",
    "        auc = roc_auc_score(y_true, y_pred)\n",
    "        sensitivity = tp / (tp + fn)\n",
    "        specificity = tn / (fp + tn)\n",
    "        res = {\n",
    "            \"model\": type(model.steps[2][1]).__name__,\n",
    "            \"accuracy\": np.mean(accuracy),\n",
    "            \"std_accuracy\": np.std(accuracy),\n",
    "            \"sensitivity\": sensitivity,\n",
    "            \"specificity\": specificity,\n",
    "            \"auc\": auc,\n",
    "            \"feature_size\": feature_size\n",
    "        }\n",
    "        results.append(res)\n",
    "    return pd.DataFrame.from_dict(results)"
   ]
  },
  {
   "cell_type": "code",
   "execution_count": 10,
   "metadata": {},
   "outputs": [],
   "source": [
    "# https://stackoverflow.com/questions/29294983/how-to-calculate-correlation-between-all-columns-and-remove-highly-correlated-on\n",
    "def corr_df(x, corr_val):\n",
    "    '''\n",
    "    Obj: Drops features that are strongly correlated to other features.\n",
    "          This lowers model complexity, and aids in generalizing the model.\n",
    "    Inputs:\n",
    "          df: features df (x)\n",
    "          corr_val: Columns are dropped relative to the corr_val input (e.g. 0.8)\n",
    "    Output: df that only includes uncorrelated features\n",
    "    '''\n",
    "\n",
    "    # Creates Correlation Matrix and Instantiates\n",
    "    corr_matrix = x.corr()\n",
    "    iters = range(len(corr_matrix.columns) - 1)\n",
    "    drop_cols = []\n",
    "\n",
    "    # Iterates through Correlation Matrix Table to find correlated columns\n",
    "    for i in iters:\n",
    "        for j in range(i):\n",
    "            item = corr_matrix.iloc[j:(j+1), (i+1):(i+2)]\n",
    "            col = item.columns\n",
    "            row = item.index\n",
    "            val = item.values\n",
    "            if abs(val) >= corr_val:\n",
    "                # Prints the correlated feature set and the corr val\n",
    "                #print(col.values[0], \"|\", row.values[0], \"|\", round(val[0][0], 2))\n",
    "                drop_cols.append(i)\n",
    "\n",
    "    drops = sorted(set(drop_cols))[::-1]\n",
    "\n",
    "    # Drops the correlated columns\n",
    "    for i in drops:\n",
    "        col = x.iloc[:, (i+1):(i+2)].columns.values\n",
    "        x = x.drop(col, axis=1)\n",
    "    return x"
   ]
  },
  {
   "cell_type": "markdown",
   "metadata": {},
   "source": [
    "# Baseline Benchmark with scaling."
   ]
  },
  {
   "cell_type": "code",
   "execution_count": 11,
   "metadata": {},
   "outputs": [
    {
     "data": {
      "text/html": [
       "<div>\n",
       "<style scoped>\n",
       "    .dataframe tbody tr th:only-of-type {\n",
       "        vertical-align: middle;\n",
       "    }\n",
       "\n",
       "    .dataframe tbody tr th {\n",
       "        vertical-align: top;\n",
       "    }\n",
       "\n",
       "    .dataframe thead th {\n",
       "        text-align: right;\n",
       "    }\n",
       "</style>\n",
       "<table border=\"1\" class=\"dataframe\">\n",
       "  <thead>\n",
       "    <tr style=\"text-align: right;\">\n",
       "      <th></th>\n",
       "      <th>model</th>\n",
       "      <th>mean_accuracy</th>\n",
       "      <th>std_accuracy</th>\n",
       "      <th>sensitivity</th>\n",
       "      <th>specificity</th>\n",
       "      <th>auc</th>\n",
       "    </tr>\n",
       "  </thead>\n",
       "  <tbody>\n",
       "    <tr>\n",
       "      <th>0</th>\n",
       "      <td>LogReg</td>\n",
       "      <td>0.933333</td>\n",
       "      <td>0.081650</td>\n",
       "      <td>0.9250</td>\n",
       "      <td>0.94</td>\n",
       "      <td>0.93250</td>\n",
       "    </tr>\n",
       "    <tr>\n",
       "      <th>1</th>\n",
       "      <td>KNN</td>\n",
       "      <td>0.855556</td>\n",
       "      <td>0.106574</td>\n",
       "      <td>0.7875</td>\n",
       "      <td>0.91</td>\n",
       "      <td>0.84875</td>\n",
       "    </tr>\n",
       "    <tr>\n",
       "      <th>2</th>\n",
       "      <td>SVM</td>\n",
       "      <td>0.900000</td>\n",
       "      <td>0.094281</td>\n",
       "      <td>0.9000</td>\n",
       "      <td>0.90</td>\n",
       "      <td>0.90000</td>\n",
       "    </tr>\n",
       "  </tbody>\n",
       "</table>\n",
       "</div>"
      ],
      "text/plain": [
       "    model  mean_accuracy  std_accuracy  sensitivity  specificity      auc\n",
       "0  LogReg       0.933333      0.081650       0.9250         0.94  0.93250\n",
       "1     KNN       0.855556      0.106574       0.7875         0.91  0.84875\n",
       "2     SVM       0.900000      0.094281       0.9000         0.90  0.90000"
      ]
     },
     "execution_count": 11,
     "metadata": {},
     "output_type": "execute_result"
    }
   ],
   "source": [
    "results = evaluate(models, X, kf)\n",
    "results"
   ]
  },
  {
   "cell_type": "markdown",
   "metadata": {},
   "source": [
    "# Removing highly correlated features"
   ]
  },
  {
   "cell_type": "code",
   "execution_count": 12,
   "metadata": {},
   "outputs": [
    {
     "data": {
      "text/plain": [
       "(180, 256)"
      ]
     },
     "execution_count": 12,
     "metadata": {},
     "output_type": "execute_result"
    }
   ],
   "source": [
    "X_corr = corr_df(pd.DataFrame(X), 0.9)\n",
    "X_corr = X_corr.to_numpy()\n",
    "X_corr.shape"
   ]
  },
  {
   "cell_type": "markdown",
   "metadata": {},
   "source": [
    "# Performance after removing correlated features"
   ]
  },
  {
   "cell_type": "code",
   "execution_count": 13,
   "metadata": {},
   "outputs": [
    {
     "data": {
      "text/html": [
       "<div>\n",
       "<style scoped>\n",
       "    .dataframe tbody tr th:only-of-type {\n",
       "        vertical-align: middle;\n",
       "    }\n",
       "\n",
       "    .dataframe tbody tr th {\n",
       "        vertical-align: top;\n",
       "    }\n",
       "\n",
       "    .dataframe thead th {\n",
       "        text-align: right;\n",
       "    }\n",
       "</style>\n",
       "<table border=\"1\" class=\"dataframe\">\n",
       "  <thead>\n",
       "    <tr style=\"text-align: right;\">\n",
       "      <th></th>\n",
       "      <th>model</th>\n",
       "      <th>mean_accuracy</th>\n",
       "      <th>std_accuracy</th>\n",
       "      <th>sensitivity</th>\n",
       "      <th>specificity</th>\n",
       "      <th>auc</th>\n",
       "    </tr>\n",
       "  </thead>\n",
       "  <tbody>\n",
       "    <tr>\n",
       "      <th>0</th>\n",
       "      <td>LogReg</td>\n",
       "      <td>0.883333</td>\n",
       "      <td>0.130171</td>\n",
       "      <td>0.8625</td>\n",
       "      <td>0.90</td>\n",
       "      <td>0.88125</td>\n",
       "    </tr>\n",
       "    <tr>\n",
       "      <th>1</th>\n",
       "      <td>KNN</td>\n",
       "      <td>0.872222</td>\n",
       "      <td>0.104379</td>\n",
       "      <td>0.7875</td>\n",
       "      <td>0.94</td>\n",
       "      <td>0.86375</td>\n",
       "    </tr>\n",
       "    <tr>\n",
       "      <th>2</th>\n",
       "      <td>SVM</td>\n",
       "      <td>0.877778</td>\n",
       "      <td>0.135628</td>\n",
       "      <td>0.8625</td>\n",
       "      <td>0.89</td>\n",
       "      <td>0.87625</td>\n",
       "    </tr>\n",
       "  </tbody>\n",
       "</table>\n",
       "</div>"
      ],
      "text/plain": [
       "    model  mean_accuracy  std_accuracy  sensitivity  specificity      auc\n",
       "0  LogReg       0.883333      0.130171       0.8625         0.90  0.88125\n",
       "1     KNN       0.872222      0.104379       0.7875         0.94  0.86375\n",
       "2     SVM       0.877778      0.135628       0.8625         0.89  0.87625"
      ]
     },
     "execution_count": 13,
     "metadata": {},
     "output_type": "execute_result"
    }
   ],
   "source": [
    "results = evaluate(models, X_corr, kf)\n",
    "results"
   ]
  },
  {
   "cell_type": "markdown",
   "metadata": {},
   "source": [
    "# Using RFECV to find optimal value of K on Scaled dataset"
   ]
  },
  {
   "cell_type": "code",
   "execution_count": 14,
   "metadata": {},
   "outputs": [
    {
     "name": "stdout",
     "output_type": "stream",
     "text": [
      "Optimal number of features : 43\n"
     ]
    },
    {
     "data": {
      "image/png": "[encoded data removed]",
      "text/plain": [
       "<Figure size 432x288 with 1 Axes>"
      ]
     },
     "metadata": {
      "needs_background": "light"
     },
     "output_type": "display_data"
    },
    {
     "data": {
      "text/html": [
       "<div>\n",
       "<style scoped>\n",
       "    .dataframe tbody tr th:only-of-type {\n",
       "        vertical-align: middle;\n",
       "    }\n",
       "\n",
       "    .dataframe tbody tr th {\n",
       "        vertical-align: top;\n",
       "    }\n",
       "\n",
       "    .dataframe thead th {\n",
       "        text-align: right;\n",
       "    }\n",
       "</style>\n",
       "<table border=\"1\" class=\"dataframe\">\n",
       "  <thead>\n",
       "    <tr style=\"text-align: right;\">\n",
       "      <th></th>\n",
       "      <th>model</th>\n",
       "      <th>mean_accuracy</th>\n",
       "      <th>std_accuracy</th>\n",
       "      <th>sensitivity</th>\n",
       "      <th>specificity</th>\n",
       "      <th>auc</th>\n",
       "    </tr>\n",
       "  </thead>\n",
       "  <tbody>\n",
       "    <tr>\n",
       "      <th>0</th>\n",
       "      <td>LogReg</td>\n",
       "      <td>0.916667</td>\n",
       "      <td>0.083333</td>\n",
       "      <td>0.925</td>\n",
       "      <td>0.91</td>\n",
       "      <td>0.9175</td>\n",
       "    </tr>\n",
       "  </tbody>\n",
       "</table>\n",
       "</div>"
      ],
      "text/plain": [
       "    model  mean_accuracy  std_accuracy  sensitivity  specificity     auc\n",
       "0  LogReg       0.916667      0.083333        0.925         0.91  0.9175"
      ]
     },
     "metadata": {},
     "output_type": "display_data"
    },
    {
     "name": "stdout",
     "output_type": "stream",
     "text": [
      "Optimal number of features : 322\n"
     ]
    },
    {
     "data": {
      "image/png": "[encoded data removed]",
      "text/plain": [
       "<Figure size 432x288 with 1 Axes>"
      ]
     },
     "metadata": {
      "needs_background": "light"
     },
     "output_type": "display_data"
    },
    {
     "data": {
      "text/html": [
       "<div>\n",
       "<style scoped>\n",
       "    .dataframe tbody tr th:only-of-type {\n",
       "        vertical-align: middle;\n",
       "    }\n",
       "\n",
       "    .dataframe tbody tr th {\n",
       "        vertical-align: top;\n",
       "    }\n",
       "\n",
       "    .dataframe thead th {\n",
       "        text-align: right;\n",
       "    }\n",
       "</style>\n",
       "<table border=\"1\" class=\"dataframe\">\n",
       "  <thead>\n",
       "    <tr style=\"text-align: right;\">\n",
       "      <th></th>\n",
       "      <th>model</th>\n",
       "      <th>mean_accuracy</th>\n",
       "      <th>std_accuracy</th>\n",
       "      <th>sensitivity</th>\n",
       "      <th>specificity</th>\n",
       "      <th>auc</th>\n",
       "    </tr>\n",
       "  </thead>\n",
       "  <tbody>\n",
       "    <tr>\n",
       "      <th>0</th>\n",
       "      <td>SVM</td>\n",
       "      <td>0.916667</td>\n",
       "      <td>0.095743</td>\n",
       "      <td>0.8875</td>\n",
       "      <td>0.94</td>\n",
       "      <td>0.91375</td>\n",
       "    </tr>\n",
       "  </tbody>\n",
       "</table>\n",
       "</div>"
      ],
      "text/plain": [
       "  model  mean_accuracy  std_accuracy  sensitivity  specificity      auc\n",
       "0   SVM       0.916667      0.095743       0.8875         0.94  0.91375"
      ]
     },
     "metadata": {},
     "output_type": "display_data"
    }
   ],
   "source": [
    "for name, model in rfecv_models:\n",
    "    rfecv = RFECV(estimator=model, step=1, cv=kf.split(X), scoring='f1', n_jobs=-1)\n",
    "    rfecv.fit(X, y)\n",
    "\n",
    "    print(\"Optimal number of features : %d\" % rfecv.n_features_)\n",
    "\n",
    "    plt.figure()\n",
    "    plt.xlabel(\"Number of features selected by \" + name)\n",
    "    plt.ylabel(\"Cross validation score (nb of correct classifications)\")\n",
    "    plt.plot(range(1, len(rfecv.grid_scores_) + 1), rfecv.grid_scores_)\n",
    "    plt.show()\n",
    "    \n",
    "    features = rfecv.get_support(indices=True)\n",
    "    rfecv_data = X[:,features]  \n",
    "    rfecv_results = evaluate_model(model, rfecv_data, kf)\n",
    "    display(rfecv_results)"
   ]
  },
  {
   "cell_type": "code",
   "execution_count": 15,
   "metadata": {},
   "outputs": [
    {
     "name": "stdout",
     "output_type": "stream",
     "text": [
      "Optimal number of features : 262\n"
     ]
    },
    {
     "data": {
      "image/png": "[encoded data removed]",
      "text/plain": [
       "<Figure size 432x288 with 1 Axes>"
      ]
     },
     "metadata": {
      "needs_background": "light"
     },
     "output_type": "display_data"
    },
    {
     "data": {
      "text/html": [
       "<div>\n",
       "<style scoped>\n",
       "    .dataframe tbody tr th:only-of-type {\n",
       "        vertical-align: middle;\n",
       "    }\n",
       "\n",
       "    .dataframe tbody tr th {\n",
       "        vertical-align: top;\n",
       "    }\n",
       "\n",
       "    .dataframe thead th {\n",
       "        text-align: right;\n",
       "    }\n",
       "</style>\n",
       "<table border=\"1\" class=\"dataframe\">\n",
       "  <thead>\n",
       "    <tr style=\"text-align: right;\">\n",
       "      <th></th>\n",
       "      <th>model</th>\n",
       "      <th>mean_accuracy</th>\n",
       "      <th>std_accuracy</th>\n",
       "      <th>sensitivity</th>\n",
       "      <th>specificity</th>\n",
       "      <th>auc</th>\n",
       "    </tr>\n",
       "  </thead>\n",
       "  <tbody>\n",
       "    <tr>\n",
       "      <th>0</th>\n",
       "      <td>LogReg</td>\n",
       "      <td>0.933333</td>\n",
       "      <td>0.08165</td>\n",
       "      <td>0.9125</td>\n",
       "      <td>0.95</td>\n",
       "      <td>0.93125</td>\n",
       "    </tr>\n",
       "  </tbody>\n",
       "</table>\n",
       "</div>"
      ],
      "text/plain": [
       "    model  mean_accuracy  std_accuracy  sensitivity  specificity      auc\n",
       "0  LogReg       0.933333       0.08165       0.9125         0.95  0.93125"
      ]
     },
     "metadata": {},
     "output_type": "display_data"
    },
    {
     "name": "stdout",
     "output_type": "stream",
     "text": [
      "Optimal number of features : 322\n"
     ]
    },
    {
     "data": {
      "image/png": "[encoded data removed]",
      "text/plain": [
       "<Figure size 432x288 with 1 Axes>"
      ]
     },
     "metadata": {
      "needs_background": "light"
     },
     "output_type": "display_data"
    },
    {
     "data": {
      "text/html": [
       "<div>\n",
       "<style scoped>\n",
       "    .dataframe tbody tr th:only-of-type {\n",
       "        vertical-align: middle;\n",
       "    }\n",
       "\n",
       "    .dataframe tbody tr th {\n",
       "        vertical-align: top;\n",
       "    }\n",
       "\n",
       "    .dataframe thead th {\n",
       "        text-align: right;\n",
       "    }\n",
       "</style>\n",
       "<table border=\"1\" class=\"dataframe\">\n",
       "  <thead>\n",
       "    <tr style=\"text-align: right;\">\n",
       "      <th></th>\n",
       "      <th>model</th>\n",
       "      <th>mean_accuracy</th>\n",
       "      <th>std_accuracy</th>\n",
       "      <th>sensitivity</th>\n",
       "      <th>specificity</th>\n",
       "      <th>auc</th>\n",
       "    </tr>\n",
       "  </thead>\n",
       "  <tbody>\n",
       "    <tr>\n",
       "      <th>0</th>\n",
       "      <td>SVM</td>\n",
       "      <td>0.916667</td>\n",
       "      <td>0.095743</td>\n",
       "      <td>0.8875</td>\n",
       "      <td>0.94</td>\n",
       "      <td>0.91375</td>\n",
       "    </tr>\n",
       "  </tbody>\n",
       "</table>\n",
       "</div>"
      ],
      "text/plain": [
       "  model  mean_accuracy  std_accuracy  sensitivity  specificity      auc\n",
       "0   SVM       0.916667      0.095743       0.8875         0.94  0.91375"
      ]
     },
     "metadata": {},
     "output_type": "display_data"
    }
   ],
   "source": [
    "for name, model in rfecv_models:\n",
    "    rfecv = RFECV(estimator=model, step=1, cv=kf.split(X), scoring='accuracy', n_jobs=-1)\n",
    "    rfecv.fit(X, y)\n",
    "\n",
    "    print(\"Optimal number of features : %d\" % rfecv.n_features_)\n",
    "\n",
    "    plt.figure()\n",
    "    plt.xlabel(\"Number of features selected by \" + name)\n",
    "    plt.ylabel(\"Cross validation score (nb of correct classifications)\")\n",
    "    plt.plot(range(1, len(rfecv.grid_scores_) + 1), rfecv.grid_scores_)\n",
    "    plt.show()\n",
    "    \n",
    "    features = rfecv.get_support(indices=True)\n",
    "    rfecv_data = X[:,features]  \n",
    "    rfecv_results = evaluate_model(model, rfecv_data, kf)\n",
    "    display(rfecv_results)"
   ]
  },
  {
   "cell_type": "markdown",
   "metadata": {},
   "source": [
    "# RFECV on Correlation dataset."
   ]
  },
  {
   "cell_type": "code",
   "execution_count": 16,
   "metadata": {},
   "outputs": [
    {
     "name": "stdout",
     "output_type": "stream",
     "text": [
      "Optimal number of features : 37\n"
     ]
    },
    {
     "data": {
      "image/png": "[encoded data removed]",
      "text/plain": [
       "<Figure size 432x288 with 1 Axes>"
      ]
     },
     "metadata": {
      "needs_background": "light"
     },
     "output_type": "display_data"
    },
    {
     "data": {
      "text/html": [
       "<div>\n",
       "<style scoped>\n",
       "    .dataframe tbody tr th:only-of-type {\n",
       "        vertical-align: middle;\n",
       "    }\n",
       "\n",
       "    .dataframe tbody tr th {\n",
       "        vertical-align: top;\n",
       "    }\n",
       "\n",
       "    .dataframe thead th {\n",
       "        text-align: right;\n",
       "    }\n",
       "</style>\n",
       "<table border=\"1\" class=\"dataframe\">\n",
       "  <thead>\n",
       "    <tr style=\"text-align: right;\">\n",
       "      <th></th>\n",
       "      <th>model</th>\n",
       "      <th>mean_accuracy</th>\n",
       "      <th>std_accuracy</th>\n",
       "      <th>sensitivity</th>\n",
       "      <th>specificity</th>\n",
       "      <th>auc</th>\n",
       "    </tr>\n",
       "  </thead>\n",
       "  <tbody>\n",
       "    <tr>\n",
       "      <th>0</th>\n",
       "      <td>LogReg</td>\n",
       "      <td>0.905556</td>\n",
       "      <td>0.097024</td>\n",
       "      <td>0.875</td>\n",
       "      <td>0.93</td>\n",
       "      <td>0.9025</td>\n",
       "    </tr>\n",
       "  </tbody>\n",
       "</table>\n",
       "</div>"
      ],
      "text/plain": [
       "    model  mean_accuracy  std_accuracy  sensitivity  specificity     auc\n",
       "0  LogReg       0.905556      0.097024        0.875         0.93  0.9025"
      ]
     },
     "metadata": {},
     "output_type": "display_data"
    },
    {
     "name": "stdout",
     "output_type": "stream",
     "text": [
      "Optimal number of features : 43\n"
     ]
    },
    {
     "data": {
      "image/png": "[encoded data removed]",
      "text/plain": [
       "<Figure size 432x288 with 1 Axes>"
      ]
     },
     "metadata": {
      "needs_background": "light"
     },
     "output_type": "display_data"
    },
    {
     "data": {
      "text/html": [
       "<div>\n",
       "<style scoped>\n",
       "    .dataframe tbody tr th:only-of-type {\n",
       "        vertical-align: middle;\n",
       "    }\n",
       "\n",
       "    .dataframe tbody tr th {\n",
       "        vertical-align: top;\n",
       "    }\n",
       "\n",
       "    .dataframe thead th {\n",
       "        text-align: right;\n",
       "    }\n",
       "</style>\n",
       "<table border=\"1\" class=\"dataframe\">\n",
       "  <thead>\n",
       "    <tr style=\"text-align: right;\">\n",
       "      <th></th>\n",
       "      <th>model</th>\n",
       "      <th>mean_accuracy</th>\n",
       "      <th>std_accuracy</th>\n",
       "      <th>sensitivity</th>\n",
       "      <th>specificity</th>\n",
       "      <th>auc</th>\n",
       "    </tr>\n",
       "  </thead>\n",
       "  <tbody>\n",
       "    <tr>\n",
       "      <th>0</th>\n",
       "      <td>SVM</td>\n",
       "      <td>0.933333</td>\n",
       "      <td>0.094281</td>\n",
       "      <td>0.9375</td>\n",
       "      <td>0.93</td>\n",
       "      <td>0.93375</td>\n",
       "    </tr>\n",
       "  </tbody>\n",
       "</table>\n",
       "</div>"
      ],
      "text/plain": [
       "  model  mean_accuracy  std_accuracy  sensitivity  specificity      auc\n",
       "0   SVM       0.933333      0.094281       0.9375         0.93  0.93375"
      ]
     },
     "metadata": {},
     "output_type": "display_data"
    }
   ],
   "source": [
    "for name, model in rfecv_models:\n",
    "    rfecv = RFECV(estimator=model, step=1, cv=kf.split(X_corr), scoring='f1', n_jobs=-1)\n",
    "    rfecv.fit(X_corr, y)\n",
    "\n",
    "    print(\"Optimal number of features : %d\" % rfecv.n_features_)\n",
    "\n",
    "    plt.figure()\n",
    "    plt.xlabel(\"Number of features selected by \" + name)\n",
    "    plt.ylabel(\"Cross validation score (nb of correct classifications)\")\n",
    "    plt.plot(range(1, len(rfecv.grid_scores_) + 1), rfecv.grid_scores_)\n",
    "    plt.show()\n",
    "    \n",
    "    features = rfecv.get_support(indices=True)\n",
    "    rfecv_corr_data = X_corr[:,features]  \n",
    "    rfecv_results = evaluate_model(model, rfecv_corr_data, kf)\n",
    "    display(rfecv_results)"
   ]
  },
  {
   "cell_type": "markdown",
   "metadata": {},
   "source": [
    "# Pearson correlation"
   ]
  },
  {
   "cell_type": "code",
   "execution_count": null,
   "metadata": {},
   "outputs": [],
   "source": [
    "# We take pearson correlation with the input columns and output labels\n",
    "\n",
    "def score_pearson_all(X, y):\n",
    "    dfX = pd.DataFrame(X)\n",
    "    # PearsonR gives the pearson coefficient and the p value\n",
    "    return np.array([scipy.stats.pearsonr(dfX[c], y) for c in dfX.columns])\n",
    "\n",
    "def score_pearson(X, y):\n",
    "    # only using pvalue\n",
    "    return score_pearson_all(X, y)[:,1]\n",
    "\n"
   ]
  },
  {
   "cell_type": "code",
   "execution_count": 19,
   "metadata": {},
   "outputs": [
    {
     "name": "stdout",
     "output_type": "stream",
     "text": [
      "Number of feature selected:  404\n"
     ]
    },
    {
     "data": {
      "text/html": [
       "<div>\n",
       "<style scoped>\n",
       "    .dataframe tbody tr th:only-of-type {\n",
       "        vertical-align: middle;\n",
       "    }\n",
       "\n",
       "    .dataframe tbody tr th {\n",
       "        vertical-align: top;\n",
       "    }\n",
       "\n",
       "    .dataframe thead th {\n",
       "        text-align: right;\n",
       "    }\n",
       "</style>\n",
       "<table border=\"1\" class=\"dataframe\">\n",
       "  <thead>\n",
       "    <tr style=\"text-align: right;\">\n",
       "      <th></th>\n",
       "      <th>model</th>\n",
       "      <th>mean_accuracy</th>\n",
       "      <th>std_accuracy</th>\n",
       "      <th>sensitivity</th>\n",
       "      <th>specificity</th>\n",
       "      <th>auc</th>\n",
       "    </tr>\n",
       "  </thead>\n",
       "  <tbody>\n",
       "    <tr>\n",
       "      <th>0</th>\n",
       "      <td>LogReg</td>\n",
       "      <td>0.916667</td>\n",
       "      <td>0.068718</td>\n",
       "      <td>0.9</td>\n",
       "      <td>0.93</td>\n",
       "      <td>0.915</td>\n",
       "    </tr>\n",
       "  </tbody>\n",
       "</table>\n",
       "</div>"
      ],
      "text/plain": [
       "    model  mean_accuracy  std_accuracy  sensitivity  specificity    auc\n",
       "0  LogReg       0.916667      0.068718          0.9         0.93  0.915"
      ]
     },
     "metadata": {},
     "output_type": "display_data"
    },
    {
     "name": "stdout",
     "output_type": "stream",
     "text": [
      "Number of feature selected:  424\n"
     ]
    },
    {
     "data": {
      "text/html": [
       "<div>\n",
       "<style scoped>\n",
       "    .dataframe tbody tr th:only-of-type {\n",
       "        vertical-align: middle;\n",
       "    }\n",
       "\n",
       "    .dataframe tbody tr th {\n",
       "        vertical-align: top;\n",
       "    }\n",
       "\n",
       "    .dataframe thead th {\n",
       "        text-align: right;\n",
       "    }\n",
       "</style>\n",
       "<table border=\"1\" class=\"dataframe\">\n",
       "  <thead>\n",
       "    <tr style=\"text-align: right;\">\n",
       "      <th></th>\n",
       "      <th>model</th>\n",
       "      <th>mean_accuracy</th>\n",
       "      <th>std_accuracy</th>\n",
       "      <th>sensitivity</th>\n",
       "      <th>specificity</th>\n",
       "      <th>auc</th>\n",
       "    </tr>\n",
       "  </thead>\n",
       "  <tbody>\n",
       "    <tr>\n",
       "      <th>0</th>\n",
       "      <td>KNN</td>\n",
       "      <td>0.866667</td>\n",
       "      <td>0.105409</td>\n",
       "      <td>0.8125</td>\n",
       "      <td>0.91</td>\n",
       "      <td>0.86125</td>\n",
       "    </tr>\n",
       "  </tbody>\n",
       "</table>\n",
       "</div>"
      ],
      "text/plain": [
       "  model  mean_accuracy  std_accuracy  sensitivity  specificity      auc\n",
       "0   KNN       0.866667      0.105409       0.8125         0.91  0.86125"
      ]
     },
     "metadata": {},
     "output_type": "display_data"
    },
    {
     "name": "stdout",
     "output_type": "stream",
     "text": [
      "Number of feature selected:  398\n"
     ]
    },
    {
     "data": {
      "text/html": [
       "<div>\n",
       "<style scoped>\n",
       "    .dataframe tbody tr th:only-of-type {\n",
       "        vertical-align: middle;\n",
       "    }\n",
       "\n",
       "    .dataframe tbody tr th {\n",
       "        vertical-align: top;\n",
       "    }\n",
       "\n",
       "    .dataframe thead th {\n",
       "        text-align: right;\n",
       "    }\n",
       "</style>\n",
       "<table border=\"1\" class=\"dataframe\">\n",
       "  <thead>\n",
       "    <tr style=\"text-align: right;\">\n",
       "      <th></th>\n",
       "      <th>model</th>\n",
       "      <th>mean_accuracy</th>\n",
       "      <th>std_accuracy</th>\n",
       "      <th>sensitivity</th>\n",
       "      <th>specificity</th>\n",
       "      <th>auc</th>\n",
       "    </tr>\n",
       "  </thead>\n",
       "  <tbody>\n",
       "    <tr>\n",
       "      <th>0</th>\n",
       "      <td>SVM</td>\n",
       "      <td>0.911111</td>\n",
       "      <td>0.093624</td>\n",
       "      <td>0.8875</td>\n",
       "      <td>0.93</td>\n",
       "      <td>0.90875</td>\n",
       "    </tr>\n",
       "  </tbody>\n",
       "</table>\n",
       "</div>"
      ],
      "text/plain": [
       "  model  mean_accuracy  std_accuracy  sensitivity  specificity      auc\n",
       "0   SVM       0.911111      0.093624       0.8875         0.93  0.90875"
      ]
     },
     "metadata": {},
     "output_type": "display_data"
    }
   ],
   "source": [
    "for name, model in models:\n",
    "    clf = Pipeline([('skb', SelectKBest(score_pearson, k = 10)), (name, model)])\n",
    "    gscv = GridSearchCV(clf, {'skb__k' : [i for i in range(1, 432)]}, cv=kf.split(X), scoring='accuracy', n_jobs=-1)\n",
    "    gscv.fit(X, y)\n",
    "    gscv.best_params_.values()\n",
    "    best_k_value = [x for x in gscv.best_params_.values()][0]\n",
    "    print(\"Number of feature selected: \" , best_k_value)\n",
    "    pearson = SelectKBest(score_pearson, k = best_k_value) \n",
    "    pearson_data = pearson.fit_transform(X, y)\n",
    "    features = pearson.get_support(indices=True)\n",
    "    pearson_data = X[:,features]  \n",
    "    pearson_results = evaluate_model(model, pearson_data, kf)\n",
    "    display(pearson_results)"
   ]
  },
  {
   "cell_type": "markdown",
   "metadata": {},
   "source": [
    "# Chi-squared test on scaled dataset"
   ]
  },
  {
   "cell_type": "code",
   "execution_count": 25,
   "metadata": {},
   "outputs": [
    {
     "name": "stdout",
     "output_type": "stream",
     "text": [
      "Number of feature selected:  328\n"
     ]
    },
    {
     "data": {
      "text/html": [
       "<div>\n",
       "<style scoped>\n",
       "    .dataframe tbody tr th:only-of-type {\n",
       "        vertical-align: middle;\n",
       "    }\n",
       "\n",
       "    .dataframe tbody tr th {\n",
       "        vertical-align: top;\n",
       "    }\n",
       "\n",
       "    .dataframe thead th {\n",
       "        text-align: right;\n",
       "    }\n",
       "</style>\n",
       "<table border=\"1\" class=\"dataframe\">\n",
       "  <thead>\n",
       "    <tr style=\"text-align: right;\">\n",
       "      <th></th>\n",
       "      <th>model</th>\n",
       "      <th>mean_accuracy</th>\n",
       "      <th>std_accuracy</th>\n",
       "      <th>sensitivity</th>\n",
       "      <th>specificity</th>\n",
       "      <th>auc</th>\n",
       "    </tr>\n",
       "  </thead>\n",
       "  <tbody>\n",
       "    <tr>\n",
       "      <th>0</th>\n",
       "      <td>LogReg</td>\n",
       "      <td>0.922222</td>\n",
       "      <td>0.078567</td>\n",
       "      <td>0.9</td>\n",
       "      <td>0.94</td>\n",
       "      <td>0.92</td>\n",
       "    </tr>\n",
       "  </tbody>\n",
       "</table>\n",
       "</div>"
      ],
      "text/plain": [
       "    model  mean_accuracy  std_accuracy  sensitivity  specificity   auc\n",
       "0  LogReg       0.922222      0.078567          0.9         0.94  0.92"
      ]
     },
     "metadata": {},
     "output_type": "display_data"
    },
    {
     "name": "stdout",
     "output_type": "stream",
     "text": [
      "Number of feature selected:  205\n"
     ]
    },
    {
     "data": {
      "text/html": [
       "<div>\n",
       "<style scoped>\n",
       "    .dataframe tbody tr th:only-of-type {\n",
       "        vertical-align: middle;\n",
       "    }\n",
       "\n",
       "    .dataframe tbody tr th {\n",
       "        vertical-align: top;\n",
       "    }\n",
       "\n",
       "    .dataframe thead th {\n",
       "        text-align: right;\n",
       "    }\n",
       "</style>\n",
       "<table border=\"1\" class=\"dataframe\">\n",
       "  <thead>\n",
       "    <tr style=\"text-align: right;\">\n",
       "      <th></th>\n",
       "      <th>model</th>\n",
       "      <th>mean_accuracy</th>\n",
       "      <th>std_accuracy</th>\n",
       "      <th>sensitivity</th>\n",
       "      <th>specificity</th>\n",
       "      <th>auc</th>\n",
       "    </tr>\n",
       "  </thead>\n",
       "  <tbody>\n",
       "    <tr>\n",
       "      <th>0</th>\n",
       "      <td>SVM</td>\n",
       "      <td>0.905556</td>\n",
       "      <td>0.070492</td>\n",
       "      <td>0.9</td>\n",
       "      <td>0.91</td>\n",
       "      <td>0.905</td>\n",
       "    </tr>\n",
       "  </tbody>\n",
       "</table>\n",
       "</div>"
      ],
      "text/plain": [
       "  model  mean_accuracy  std_accuracy  sensitivity  specificity    auc\n",
       "0   SVM       0.905556      0.070492          0.9         0.91  0.905"
      ]
     },
     "metadata": {},
     "output_type": "display_data"
    }
   ],
   "source": [
    "for name, model in rfecv_models:\n",
    "    clf = Pipeline([('skb', SelectKBest(chi2, k = 10)), (name, model)])\n",
    "    gscv = GridSearchCV(clf, {'skb__k' : [i for i in range(1, 432)]}, cv=kf.split(X), scoring='accuracy', n_jobs=-1)\n",
    "    gscv.fit(X, y)\n",
    "    gscv.best_params_.values()\n",
    "    best_k_value = [x for x in gscv.best_params_.values()][0]\n",
    "    print(\"Number of feature selected: \" , best_k_value)\n",
    "    chi_squared = SelectKBest(chi2, k = best_k_value) \n",
    "    chi_squared_data = chi_squared.fit_transform(X, y)\n",
    "    features = chi_squared.get_support(indices=True)\n",
    "    chi_squared_data = X[:,features]  \n",
    "    chi_squared_results = evaluate_model(model, chi_squared_data, kf)\n",
    "    display(chi_squared_results)"
   ]
  },
  {
   "cell_type": "code",
   "execution_count": 26,
   "metadata": {},
   "outputs": [
    {
     "name": "stdout",
     "output_type": "stream",
     "text": [
      "Number of feature selected:  314\n"
     ]
    },
    {
     "data": {
      "text/html": [
       "<div>\n",
       "<style scoped>\n",
       "    .dataframe tbody tr th:only-of-type {\n",
       "        vertical-align: middle;\n",
       "    }\n",
       "\n",
       "    .dataframe tbody tr th {\n",
       "        vertical-align: top;\n",
       "    }\n",
       "\n",
       "    .dataframe thead th {\n",
       "        text-align: right;\n",
       "    }\n",
       "</style>\n",
       "<table border=\"1\" class=\"dataframe\">\n",
       "  <thead>\n",
       "    <tr style=\"text-align: right;\">\n",
       "      <th></th>\n",
       "      <th>model</th>\n",
       "      <th>mean_accuracy</th>\n",
       "      <th>std_accuracy</th>\n",
       "      <th>sensitivity</th>\n",
       "      <th>specificity</th>\n",
       "      <th>auc</th>\n",
       "    </tr>\n",
       "  </thead>\n",
       "  <tbody>\n",
       "    <tr>\n",
       "      <th>0</th>\n",
       "      <td>LogReg</td>\n",
       "      <td>0.916667</td>\n",
       "      <td>0.089753</td>\n",
       "      <td>0.8875</td>\n",
       "      <td>0.94</td>\n",
       "      <td>0.91375</td>\n",
       "    </tr>\n",
       "  </tbody>\n",
       "</table>\n",
       "</div>"
      ],
      "text/plain": [
       "    model  mean_accuracy  std_accuracy  sensitivity  specificity      auc\n",
       "0  LogReg       0.916667      0.089753       0.8875         0.94  0.91375"
      ]
     },
     "metadata": {},
     "output_type": "display_data"
    },
    {
     "name": "stdout",
     "output_type": "stream",
     "text": [
      "Number of feature selected:  304\n"
     ]
    },
    {
     "data": {
      "text/html": [
       "<div>\n",
       "<style scoped>\n",
       "    .dataframe tbody tr th:only-of-type {\n",
       "        vertical-align: middle;\n",
       "    }\n",
       "\n",
       "    .dataframe tbody tr th {\n",
       "        vertical-align: top;\n",
       "    }\n",
       "\n",
       "    .dataframe thead th {\n",
       "        text-align: right;\n",
       "    }\n",
       "</style>\n",
       "<table border=\"1\" class=\"dataframe\">\n",
       "  <thead>\n",
       "    <tr style=\"text-align: right;\">\n",
       "      <th></th>\n",
       "      <th>model</th>\n",
       "      <th>mean_accuracy</th>\n",
       "      <th>std_accuracy</th>\n",
       "      <th>sensitivity</th>\n",
       "      <th>specificity</th>\n",
       "      <th>auc</th>\n",
       "    </tr>\n",
       "  </thead>\n",
       "  <tbody>\n",
       "    <tr>\n",
       "      <th>0</th>\n",
       "      <td>SVM</td>\n",
       "      <td>0.922222</td>\n",
       "      <td>0.071146</td>\n",
       "      <td>0.925</td>\n",
       "      <td>0.92</td>\n",
       "      <td>0.9225</td>\n",
       "    </tr>\n",
       "  </tbody>\n",
       "</table>\n",
       "</div>"
      ],
      "text/plain": [
       "  model  mean_accuracy  std_accuracy  sensitivity  specificity     auc\n",
       "0   SVM       0.922222      0.071146        0.925         0.92  0.9225"
      ]
     },
     "metadata": {},
     "output_type": "display_data"
    }
   ],
   "source": [
    "for name, model in rfecv_models:\n",
    "    clf = Pipeline([('skb', SelectKBest(chi2, k = 10)), (name, model)])\n",
    "    gscv = GridSearchCV(clf, {'skb__k' : [i for i in range(1, 432)]}, cv=kf.split(X), scoring='f1', n_jobs=-1)\n",
    "    gscv.fit(X, y)\n",
    "    gscv.best_params_.values()\n",
    "    best_k_value = [x for x in gscv.best_params_.values()][0]\n",
    "    print(\"Number of feature selected: \" , best_k_value)\n",
    "    chi_squared = SelectKBest(chi2, k = best_k_value) \n",
    "    chi_squared_data = chi_squared.fit_transform(X, y)\n",
    "    features = chi_squared.get_support(indices=True)\n",
    "    chi_squared_data = X[:,features]  \n",
    "    chi_squared_results = evaluate_model(model, chi_squared_data, kf)\n",
    "    display(chi_squared_results)"
   ]
  },
  {
   "cell_type": "markdown",
   "metadata": {},
   "source": [
    "# ANOVA filter method on scaled dataset."
   ]
  },
  {
   "cell_type": "code",
   "execution_count": 56,
   "metadata": {},
   "outputs": [
    {
     "name": "stdout",
     "output_type": "stream",
     "text": [
      "Number of feature selected:  182\n"
     ]
    },
    {
     "data": {
      "text/html": [
       "<div>\n",
       "<style scoped>\n",
       "    .dataframe tbody tr th:only-of-type {\n",
       "        vertical-align: middle;\n",
       "    }\n",
       "\n",
       "    .dataframe tbody tr th {\n",
       "        vertical-align: top;\n",
       "    }\n",
       "\n",
       "    .dataframe thead th {\n",
       "        text-align: right;\n",
       "    }\n",
       "</style>\n",
       "<table border=\"1\" class=\"dataframe\">\n",
       "  <thead>\n",
       "    <tr style=\"text-align: right;\">\n",
       "      <th></th>\n",
       "      <th>model</th>\n",
       "      <th>mean_accuracy</th>\n",
       "      <th>std_accuracy</th>\n",
       "      <th>sensitivity</th>\n",
       "      <th>specificity</th>\n",
       "      <th>auc</th>\n",
       "    </tr>\n",
       "  </thead>\n",
       "  <tbody>\n",
       "    <tr>\n",
       "      <th>0</th>\n",
       "      <td>LogReg</td>\n",
       "      <td>0.911111</td>\n",
       "      <td>0.093624</td>\n",
       "      <td>0.875</td>\n",
       "      <td>0.94</td>\n",
       "      <td>0.9075</td>\n",
       "    </tr>\n",
       "  </tbody>\n",
       "</table>\n",
       "</div>"
      ],
      "text/plain": [
       "    model  mean_accuracy  std_accuracy  sensitivity  specificity     auc\n",
       "0  LogReg       0.911111      0.093624        0.875         0.94  0.9075"
      ]
     },
     "metadata": {},
     "output_type": "display_data"
    },
    {
     "name": "stdout",
     "output_type": "stream",
     "text": [
      "Number of feature selected:  392\n"
     ]
    },
    {
     "data": {
      "text/html": [
       "<div>\n",
       "<style scoped>\n",
       "    .dataframe tbody tr th:only-of-type {\n",
       "        vertical-align: middle;\n",
       "    }\n",
       "\n",
       "    .dataframe tbody tr th {\n",
       "        vertical-align: top;\n",
       "    }\n",
       "\n",
       "    .dataframe thead th {\n",
       "        text-align: right;\n",
       "    }\n",
       "</style>\n",
       "<table border=\"1\" class=\"dataframe\">\n",
       "  <thead>\n",
       "    <tr style=\"text-align: right;\">\n",
       "      <th></th>\n",
       "      <th>model</th>\n",
       "      <th>mean_accuracy</th>\n",
       "      <th>std_accuracy</th>\n",
       "      <th>sensitivity</th>\n",
       "      <th>specificity</th>\n",
       "      <th>auc</th>\n",
       "    </tr>\n",
       "  </thead>\n",
       "  <tbody>\n",
       "    <tr>\n",
       "      <th>0</th>\n",
       "      <td>KNN</td>\n",
       "      <td>0.855556</td>\n",
       "      <td>0.101227</td>\n",
       "      <td>0.8</td>\n",
       "      <td>0.9</td>\n",
       "      <td>0.85</td>\n",
       "    </tr>\n",
       "  </tbody>\n",
       "</table>\n",
       "</div>"
      ],
      "text/plain": [
       "  model  mean_accuracy  std_accuracy  sensitivity  specificity   auc\n",
       "0   KNN       0.855556      0.101227          0.8          0.9  0.85"
      ]
     },
     "metadata": {},
     "output_type": "display_data"
    },
    {
     "name": "stdout",
     "output_type": "stream",
     "text": [
      "Number of feature selected:  151\n"
     ]
    },
    {
     "data": {
      "text/html": [
       "<div>\n",
       "<style scoped>\n",
       "    .dataframe tbody tr th:only-of-type {\n",
       "        vertical-align: middle;\n",
       "    }\n",
       "\n",
       "    .dataframe tbody tr th {\n",
       "        vertical-align: top;\n",
       "    }\n",
       "\n",
       "    .dataframe thead th {\n",
       "        text-align: right;\n",
       "    }\n",
       "</style>\n",
       "<table border=\"1\" class=\"dataframe\">\n",
       "  <thead>\n",
       "    <tr style=\"text-align: right;\">\n",
       "      <th></th>\n",
       "      <th>model</th>\n",
       "      <th>mean_accuracy</th>\n",
       "      <th>std_accuracy</th>\n",
       "      <th>sensitivity</th>\n",
       "      <th>specificity</th>\n",
       "      <th>auc</th>\n",
       "    </tr>\n",
       "  </thead>\n",
       "  <tbody>\n",
       "    <tr>\n",
       "      <th>0</th>\n",
       "      <td>SVM</td>\n",
       "      <td>0.877778</td>\n",
       "      <td>0.131468</td>\n",
       "      <td>0.85</td>\n",
       "      <td>0.9</td>\n",
       "      <td>0.875</td>\n",
       "    </tr>\n",
       "  </tbody>\n",
       "</table>\n",
       "</div>"
      ],
      "text/plain": [
       "  model  mean_accuracy  std_accuracy  sensitivity  specificity    auc\n",
       "0   SVM       0.877778      0.131468         0.85          0.9  0.875"
      ]
     },
     "metadata": {},
     "output_type": "display_data"
    }
   ],
   "source": [
    "for name, model in models:\n",
    "    clf = Pipeline([('skb', SelectKBest(f_classif, k = 10)), (name, model)])\n",
    "    gscv = GridSearchCV(clf, {'skb__k' : [i for i in range(1, 432)]}, cv=kf.split(X), scoring='accuracy', n_jobs=-1)\n",
    "    gscv.fit(X, y)\n",
    "    gscv.best_params_.values()\n",
    "    best_k_value = [x for x in gscv.best_params_.values()][0]\n",
    "    print(\"Number of feature selected: \" , best_k_value)\n",
    "    anova = SelectKBest(f_classif, k = best_k_value) \n",
    "    anova_data = anova.fit_transform(X, y)\n",
    "    features = anova.get_support(indices=True)\n",
    "    anova_data = X[:,features]  \n",
    "    anova_results = evaluate_model(model, anova_data, kf)\n",
    "    display(anova_results)"
   ]
  },
  {
   "cell_type": "code",
   "execution_count": 57,
   "metadata": {},
   "outputs": [
    {
     "name": "stdout",
     "output_type": "stream",
     "text": [
      "Number of feature selected:  369\n"
     ]
    },
    {
     "data": {
      "text/html": [
       "<div>\n",
       "<style scoped>\n",
       "    .dataframe tbody tr th:only-of-type {\n",
       "        vertical-align: middle;\n",
       "    }\n",
       "\n",
       "    .dataframe tbody tr th {\n",
       "        vertical-align: top;\n",
       "    }\n",
       "\n",
       "    .dataframe thead th {\n",
       "        text-align: right;\n",
       "    }\n",
       "</style>\n",
       "<table border=\"1\" class=\"dataframe\">\n",
       "  <thead>\n",
       "    <tr style=\"text-align: right;\">\n",
       "      <th></th>\n",
       "      <th>model</th>\n",
       "      <th>mean_accuracy</th>\n",
       "      <th>std_accuracy</th>\n",
       "      <th>sensitivity</th>\n",
       "      <th>specificity</th>\n",
       "      <th>auc</th>\n",
       "    </tr>\n",
       "  </thead>\n",
       "  <tbody>\n",
       "    <tr>\n",
       "      <th>0</th>\n",
       "      <td>LogReg</td>\n",
       "      <td>0.938889</td>\n",
       "      <td>0.089062</td>\n",
       "      <td>0.9125</td>\n",
       "      <td>0.96</td>\n",
       "      <td>0.93625</td>\n",
       "    </tr>\n",
       "  </tbody>\n",
       "</table>\n",
       "</div>"
      ],
      "text/plain": [
       "    model  mean_accuracy  std_accuracy  sensitivity  specificity      auc\n",
       "0  LogReg       0.938889      0.089062       0.9125         0.96  0.93625"
      ]
     },
     "metadata": {},
     "output_type": "display_data"
    },
    {
     "name": "stdout",
     "output_type": "stream",
     "text": [
      "Number of feature selected:  391\n"
     ]
    },
    {
     "data": {
      "text/html": [
       "<div>\n",
       "<style scoped>\n",
       "    .dataframe tbody tr th:only-of-type {\n",
       "        vertical-align: middle;\n",
       "    }\n",
       "\n",
       "    .dataframe tbody tr th {\n",
       "        vertical-align: top;\n",
       "    }\n",
       "\n",
       "    .dataframe thead th {\n",
       "        text-align: right;\n",
       "    }\n",
       "</style>\n",
       "<table border=\"1\" class=\"dataframe\">\n",
       "  <thead>\n",
       "    <tr style=\"text-align: right;\">\n",
       "      <th></th>\n",
       "      <th>model</th>\n",
       "      <th>mean_accuracy</th>\n",
       "      <th>std_accuracy</th>\n",
       "      <th>sensitivity</th>\n",
       "      <th>specificity</th>\n",
       "      <th>auc</th>\n",
       "    </tr>\n",
       "  </thead>\n",
       "  <tbody>\n",
       "    <tr>\n",
       "      <th>0</th>\n",
       "      <td>KNN</td>\n",
       "      <td>0.855556</td>\n",
       "      <td>0.101227</td>\n",
       "      <td>0.8</td>\n",
       "      <td>0.9</td>\n",
       "      <td>0.85</td>\n",
       "    </tr>\n",
       "  </tbody>\n",
       "</table>\n",
       "</div>"
      ],
      "text/plain": [
       "  model  mean_accuracy  std_accuracy  sensitivity  specificity   auc\n",
       "0   KNN       0.855556      0.101227          0.8          0.9  0.85"
      ]
     },
     "metadata": {},
     "output_type": "display_data"
    },
    {
     "name": "stdout",
     "output_type": "stream",
     "text": [
      "Number of feature selected:  149\n"
     ]
    },
    {
     "data": {
      "text/html": [
       "<div>\n",
       "<style scoped>\n",
       "    .dataframe tbody tr th:only-of-type {\n",
       "        vertical-align: middle;\n",
       "    }\n",
       "\n",
       "    .dataframe tbody tr th {\n",
       "        vertical-align: top;\n",
       "    }\n",
       "\n",
       "    .dataframe thead th {\n",
       "        text-align: right;\n",
       "    }\n",
       "</style>\n",
       "<table border=\"1\" class=\"dataframe\">\n",
       "  <thead>\n",
       "    <tr style=\"text-align: right;\">\n",
       "      <th></th>\n",
       "      <th>model</th>\n",
       "      <th>mean_accuracy</th>\n",
       "      <th>std_accuracy</th>\n",
       "      <th>sensitivity</th>\n",
       "      <th>specificity</th>\n",
       "      <th>auc</th>\n",
       "    </tr>\n",
       "  </thead>\n",
       "  <tbody>\n",
       "    <tr>\n",
       "      <th>0</th>\n",
       "      <td>SVM</td>\n",
       "      <td>0.883333</td>\n",
       "      <td>0.134371</td>\n",
       "      <td>0.8625</td>\n",
       "      <td>0.9</td>\n",
       "      <td>0.88125</td>\n",
       "    </tr>\n",
       "  </tbody>\n",
       "</table>\n",
       "</div>"
      ],
      "text/plain": [
       "  model  mean_accuracy  std_accuracy  sensitivity  specificity      auc\n",
       "0   SVM       0.883333      0.134371       0.8625          0.9  0.88125"
      ]
     },
     "metadata": {},
     "output_type": "display_data"
    }
   ],
   "source": [
    "for name, model in models:\n",
    "    clf = Pipeline([('skb', SelectKBest(f_classif, k = 10)), (name, model)])\n",
    "    gscv = GridSearchCV(clf, {'skb__k' : [i for i in range(1, 432)]}, cv=kf.split(X), scoring='f1', n_jobs=-1)\n",
    "    gscv.fit(X, y)\n",
    "    gscv.best_params_.values()\n",
    "    best_k_value = [x for x in gscv.best_params_.values()][0]\n",
    "    print(\"Number of feature selected: \" , best_k_value)\n",
    "    anova = SelectKBest(f_classif, k = best_k_value) \n",
    "    anova_data = anova.fit_transform(X, y)\n",
    "    features = anova.get_support(indices=True)\n",
    "    anova_data = X[:,features]  \n",
    "    anova_results = evaluate_model(model, anova_data, kf)\n",
    "    display(anova_results)"
   ]
  },
  {
   "cell_type": "markdown",
   "metadata": {},
   "source": [
    "# Mutual Information filter method on scaled dataset."
   ]
  },
  {
   "cell_type": "code",
   "execution_count": 58,
   "metadata": {},
   "outputs": [
    {
     "name": "stdout",
     "output_type": "stream",
     "text": [
      "Number of feature selected:  161\n"
     ]
    },
    {
     "data": {
      "text/html": [
       "<div>\n",
       "<style scoped>\n",
       "    .dataframe tbody tr th:only-of-type {\n",
       "        vertical-align: middle;\n",
       "    }\n",
       "\n",
       "    .dataframe tbody tr th {\n",
       "        vertical-align: top;\n",
       "    }\n",
       "\n",
       "    .dataframe thead th {\n",
       "        text-align: right;\n",
       "    }\n",
       "</style>\n",
       "<table border=\"1\" class=\"dataframe\">\n",
       "  <thead>\n",
       "    <tr style=\"text-align: right;\">\n",
       "      <th></th>\n",
       "      <th>model</th>\n",
       "      <th>mean_accuracy</th>\n",
       "      <th>std_accuracy</th>\n",
       "      <th>sensitivity</th>\n",
       "      <th>specificity</th>\n",
       "      <th>auc</th>\n",
       "    </tr>\n",
       "  </thead>\n",
       "  <tbody>\n",
       "    <tr>\n",
       "      <th>0</th>\n",
       "      <td>LogReg</td>\n",
       "      <td>0.938889</td>\n",
       "      <td>0.075564</td>\n",
       "      <td>0.9125</td>\n",
       "      <td>0.96</td>\n",
       "      <td>0.93625</td>\n",
       "    </tr>\n",
       "  </tbody>\n",
       "</table>\n",
       "</div>"
      ],
      "text/plain": [
       "    model  mean_accuracy  std_accuracy  sensitivity  specificity      auc\n",
       "0  LogReg       0.938889      0.075564       0.9125         0.96  0.93625"
      ]
     },
     "metadata": {},
     "output_type": "display_data"
    },
    {
     "name": "stdout",
     "output_type": "stream",
     "text": [
      "Number of feature selected:  131\n"
     ]
    },
    {
     "data": {
      "text/html": [
       "<div>\n",
       "<style scoped>\n",
       "    .dataframe tbody tr th:only-of-type {\n",
       "        vertical-align: middle;\n",
       "    }\n",
       "\n",
       "    .dataframe tbody tr th {\n",
       "        vertical-align: top;\n",
       "    }\n",
       "\n",
       "    .dataframe thead th {\n",
       "        text-align: right;\n",
       "    }\n",
       "</style>\n",
       "<table border=\"1\" class=\"dataframe\">\n",
       "  <thead>\n",
       "    <tr style=\"text-align: right;\">\n",
       "      <th></th>\n",
       "      <th>model</th>\n",
       "      <th>mean_accuracy</th>\n",
       "      <th>std_accuracy</th>\n",
       "      <th>sensitivity</th>\n",
       "      <th>specificity</th>\n",
       "      <th>auc</th>\n",
       "    </tr>\n",
       "  </thead>\n",
       "  <tbody>\n",
       "    <tr>\n",
       "      <th>0</th>\n",
       "      <td>KNN</td>\n",
       "      <td>0.861111</td>\n",
       "      <td>0.059056</td>\n",
       "      <td>0.85</td>\n",
       "      <td>0.87</td>\n",
       "      <td>0.86</td>\n",
       "    </tr>\n",
       "  </tbody>\n",
       "</table>\n",
       "</div>"
      ],
      "text/plain": [
       "  model  mean_accuracy  std_accuracy  sensitivity  specificity   auc\n",
       "0   KNN       0.861111      0.059056         0.85         0.87  0.86"
      ]
     },
     "metadata": {},
     "output_type": "display_data"
    },
    {
     "name": "stdout",
     "output_type": "stream",
     "text": [
      "Number of feature selected:  231\n"
     ]
    },
    {
     "data": {
      "text/html": [
       "<div>\n",
       "<style scoped>\n",
       "    .dataframe tbody tr th:only-of-type {\n",
       "        vertical-align: middle;\n",
       "    }\n",
       "\n",
       "    .dataframe tbody tr th {\n",
       "        vertical-align: top;\n",
       "    }\n",
       "\n",
       "    .dataframe thead th {\n",
       "        text-align: right;\n",
       "    }\n",
       "</style>\n",
       "<table border=\"1\" class=\"dataframe\">\n",
       "  <thead>\n",
       "    <tr style=\"text-align: right;\">\n",
       "      <th></th>\n",
       "      <th>model</th>\n",
       "      <th>mean_accuracy</th>\n",
       "      <th>std_accuracy</th>\n",
       "      <th>sensitivity</th>\n",
       "      <th>specificity</th>\n",
       "      <th>auc</th>\n",
       "    </tr>\n",
       "  </thead>\n",
       "  <tbody>\n",
       "    <tr>\n",
       "      <th>0</th>\n",
       "      <td>SVM</td>\n",
       "      <td>0.944444</td>\n",
       "      <td>0.059835</td>\n",
       "      <td>0.9375</td>\n",
       "      <td>0.95</td>\n",
       "      <td>0.94375</td>\n",
       "    </tr>\n",
       "  </tbody>\n",
       "</table>\n",
       "</div>"
      ],
      "text/plain": [
       "  model  mean_accuracy  std_accuracy  sensitivity  specificity      auc\n",
       "0   SVM       0.944444      0.059835       0.9375         0.95  0.94375"
      ]
     },
     "metadata": {},
     "output_type": "display_data"
    }
   ],
   "source": [
    "for name, model in models:\n",
    "    clf = Pipeline([('skb', SelectKBest(mutual_info_classif, k = 10)), (name, model)])\n",
    "    gscv = GridSearchCV(clf, {'skb__k' : [i for i in range(1,432,10)]}, cv=kf.split(X), scoring='f1', n_jobs=-1)\n",
    "    gscv.fit(X, y)\n",
    "    gscv.best_params_.values()\n",
    "    best_k_value = [x for x in gscv.best_params_.values()][0]\n",
    "    print(\"Number of feature selected: \" , best_k_value)\n",
    "    mutual_info = SelectKBest(mutual_info_classif, k=best_k_value)\n",
    "    mutual_info_data = mutual_info.fit_transform(X, y)\n",
    "    features = mutual_info.get_support(indices=True)\n",
    "    mutual_info_data = X[:,features] \n",
    "    mutual_info_results = evaluate_model(model, mutual_info_data, kf)\n",
    "    display(mutual_info_results)"
   ]
  },
  {
   "cell_type": "code",
   "execution_count": 59,
   "metadata": {},
   "outputs": [
    {
     "name": "stdout",
     "output_type": "stream",
     "text": [
      "Number of feature selected:  181\n"
     ]
    },
    {
     "data": {
      "text/html": [
       "<div>\n",
       "<style scoped>\n",
       "    .dataframe tbody tr th:only-of-type {\n",
       "        vertical-align: middle;\n",
       "    }\n",
       "\n",
       "    .dataframe tbody tr th {\n",
       "        vertical-align: top;\n",
       "    }\n",
       "\n",
       "    .dataframe thead th {\n",
       "        text-align: right;\n",
       "    }\n",
       "</style>\n",
       "<table border=\"1\" class=\"dataframe\">\n",
       "  <thead>\n",
       "    <tr style=\"text-align: right;\">\n",
       "      <th></th>\n",
       "      <th>model</th>\n",
       "      <th>mean_accuracy</th>\n",
       "      <th>std_accuracy</th>\n",
       "      <th>sensitivity</th>\n",
       "      <th>specificity</th>\n",
       "      <th>auc</th>\n",
       "    </tr>\n",
       "  </thead>\n",
       "  <tbody>\n",
       "    <tr>\n",
       "      <th>0</th>\n",
       "      <td>LogReg</td>\n",
       "      <td>0.927778</td>\n",
       "      <td>0.073072</td>\n",
       "      <td>0.9125</td>\n",
       "      <td>0.94</td>\n",
       "      <td>0.92625</td>\n",
       "    </tr>\n",
       "  </tbody>\n",
       "</table>\n",
       "</div>"
      ],
      "text/plain": [
       "    model  mean_accuracy  std_accuracy  sensitivity  specificity      auc\n",
       "0  LogReg       0.927778      0.073072       0.9125         0.94  0.92625"
      ]
     },
     "metadata": {},
     "output_type": "display_data"
    },
    {
     "name": "stdout",
     "output_type": "stream",
     "text": [
      "Number of feature selected:  151\n"
     ]
    },
    {
     "data": {
      "text/html": [
       "<div>\n",
       "<style scoped>\n",
       "    .dataframe tbody tr th:only-of-type {\n",
       "        vertical-align: middle;\n",
       "    }\n",
       "\n",
       "    .dataframe tbody tr th {\n",
       "        vertical-align: top;\n",
       "    }\n",
       "\n",
       "    .dataframe thead th {\n",
       "        text-align: right;\n",
       "    }\n",
       "</style>\n",
       "<table border=\"1\" class=\"dataframe\">\n",
       "  <thead>\n",
       "    <tr style=\"text-align: right;\">\n",
       "      <th></th>\n",
       "      <th>model</th>\n",
       "      <th>mean_accuracy</th>\n",
       "      <th>std_accuracy</th>\n",
       "      <th>sensitivity</th>\n",
       "      <th>specificity</th>\n",
       "      <th>auc</th>\n",
       "    </tr>\n",
       "  </thead>\n",
       "  <tbody>\n",
       "    <tr>\n",
       "      <th>0</th>\n",
       "      <td>KNN</td>\n",
       "      <td>0.855556</td>\n",
       "      <td>0.068493</td>\n",
       "      <td>0.825</td>\n",
       "      <td>0.88</td>\n",
       "      <td>0.8525</td>\n",
       "    </tr>\n",
       "  </tbody>\n",
       "</table>\n",
       "</div>"
      ],
      "text/plain": [
       "  model  mean_accuracy  std_accuracy  sensitivity  specificity     auc\n",
       "0   KNN       0.855556      0.068493        0.825         0.88  0.8525"
      ]
     },
     "metadata": {},
     "output_type": "display_data"
    },
    {
     "name": "stdout",
     "output_type": "stream",
     "text": [
      "Number of feature selected:  221\n"
     ]
    },
    {
     "data": {
      "text/html": [
       "<div>\n",
       "<style scoped>\n",
       "    .dataframe tbody tr th:only-of-type {\n",
       "        vertical-align: middle;\n",
       "    }\n",
       "\n",
       "    .dataframe tbody tr th {\n",
       "        vertical-align: top;\n",
       "    }\n",
       "\n",
       "    .dataframe thead th {\n",
       "        text-align: right;\n",
       "    }\n",
       "</style>\n",
       "<table border=\"1\" class=\"dataframe\">\n",
       "  <thead>\n",
       "    <tr style=\"text-align: right;\">\n",
       "      <th></th>\n",
       "      <th>model</th>\n",
       "      <th>mean_accuracy</th>\n",
       "      <th>std_accuracy</th>\n",
       "      <th>sensitivity</th>\n",
       "      <th>specificity</th>\n",
       "      <th>auc</th>\n",
       "    </tr>\n",
       "  </thead>\n",
       "  <tbody>\n",
       "    <tr>\n",
       "      <th>0</th>\n",
       "      <td>SVM</td>\n",
       "      <td>0.944444</td>\n",
       "      <td>0.059835</td>\n",
       "      <td>0.95</td>\n",
       "      <td>0.94</td>\n",
       "      <td>0.945</td>\n",
       "    </tr>\n",
       "  </tbody>\n",
       "</table>\n",
       "</div>"
      ],
      "text/plain": [
       "  model  mean_accuracy  std_accuracy  sensitivity  specificity    auc\n",
       "0   SVM       0.944444      0.059835         0.95         0.94  0.945"
      ]
     },
     "metadata": {},
     "output_type": "display_data"
    }
   ],
   "source": [
    "for name, model in models:\n",
    "    clf = Pipeline([('skb', SelectKBest(mutual_info_classif, k = 10)), (name, model)])\n",
    "    gscv = GridSearchCV(clf, {'skb__k' : [i for i in range(1,432,10)]}, cv=kf.split(X), scoring='accuracy', n_jobs=-1)\n",
    "    gscv.fit(X, y)\n",
    "    gscv.best_params_.values()\n",
    "    best_k_value = [x for x in gscv.best_params_.values()][0]\n",
    "    print(\"Number of feature selected: \" , best_k_value)\n",
    "    mutual_info = SelectKBest(mutual_info_classif, k=best_k_value)\n",
    "    mutual_info_data = mutual_info.fit_transform(X, y)\n",
    "    features = mutual_info.get_support(indices=True)\n",
    "    mutual_info_data = X[:,features] \n",
    "    mutual_info_results = evaluate_model(model, mutual_info_data, kf)\n",
    "    display(mutual_info_results)"
   ]
  },
  {
   "cell_type": "markdown",
   "metadata": {},
   "source": [
    "# Lasso embedded method feature selection on scaled dataset."
   ]
  },
  {
   "cell_type": "code",
   "execution_count": 60,
   "metadata": {},
   "outputs": [
    {
     "data": {
      "text/plain": [
       "LassoCV(cv=<generator object _BaseKFold.split at 0x000002BD0B49CD60>)"
      ]
     },
     "execution_count": 60,
     "metadata": {},
     "output_type": "execute_result"
    }
   ],
   "source": [
    "model = LassoCV(cv=kf.split(X))\n",
    "model.fit(X, y)"
   ]
  },
  {
   "cell_type": "code",
   "execution_count": 61,
   "metadata": {},
   "outputs": [
    {
     "data": {
      "text/plain": [
       "array([0.8335218 , 0.77734522, 0.72495475, 0.67609523, 0.63052867,\n",
       "       0.58803315, 0.54840168, 0.51144125, 0.47697182, 0.44482551,\n",
       "       0.41484576, 0.38688655, 0.36081169, 0.33649419, 0.31381561,\n",
       "       0.29266548, 0.27294081, 0.25454551, 0.23739   , 0.22139071,\n",
       "       0.20646971, 0.19255435, 0.17957683, 0.16747395, 0.15618677,\n",
       "       0.1456603 , 0.13584328, 0.1266879 , 0.11814956, 0.11018668,\n",
       "       0.10276046, 0.09583475, 0.08937581, 0.08335218, 0.07773452,\n",
       "       0.07249548, 0.06760952, 0.06305287, 0.05880331, 0.05484017,\n",
       "       0.05114412, 0.04769718, 0.04448255, 0.04148458, 0.03868865,\n",
       "       0.03608117, 0.03364942, 0.03138156, 0.02926655, 0.02729408,\n",
       "       0.02545455, 0.023739  , 0.02213907, 0.02064697, 0.01925543,\n",
       "       0.01795768, 0.0167474 , 0.01561868, 0.01456603, 0.01358433,\n",
       "       0.01266879, 0.01181496, 0.01101867, 0.01027605, 0.00958348,\n",
       "       0.00893758, 0.00833522, 0.00777345, 0.00724955, 0.00676095,\n",
       "       0.00630529, 0.00588033, 0.00548402, 0.00511441, 0.00476972,\n",
       "       0.00444826, 0.00414846, 0.00386887, 0.00360812, 0.00336494,\n",
       "       0.00313816, 0.00292665, 0.00272941, 0.00254546, 0.0023739 ,\n",
       "       0.00221391, 0.0020647 , 0.00192554, 0.00179577, 0.00167474,\n",
       "       0.00156187, 0.0014566 , 0.00135843, 0.00126688, 0.0011815 ,\n",
       "       0.00110187, 0.0010276 , 0.00095835, 0.00089376, 0.00083352])"
      ]
     },
     "execution_count": 61,
     "metadata": {},
     "output_type": "execute_result"
    }
   ],
   "source": [
    "model.alphas_"
   ]
  },
  {
   "cell_type": "code",
   "execution_count": 62,
   "metadata": {},
   "outputs": [],
   "source": [
    "alpha_space = [0.1456603 , 0.13584328, 0.1266879 , 0.11814956, 0.11018668,\n",
    "       0.10276046, 0.09583475, 0.08937581, 0.08335218, 0.07773452,\n",
    "       0.07249548, 0.06760952, 0.06305287, 0.05880331, 0.05484017,\n",
    "       0.05114412, 0.04769718, 0.04448255, 0.04148458, 0.03868865,\n",
    "       0.03608117, 0.03364942, 0.03138156, 0.02926655, 0.02729408,\n",
    "       0.02545455, 0.023739  , 0.02213907, 0.02064697, 0.01925543,\n",
    "       0.01795768, 0.0167474 , 0.01561868, 0.01456603, 0.01358433,\n",
    "       0.01266879, 0.01181496, 0.01101867, 0.01027605, 0.00958348,\n",
    "       0.00893758, 0.00833522, 0.00777345, 0.00724955, 0.00676095,\n",
    "       0.00630529, 0.00588033, 0.00548402, 0.00511441, 0.00476972,\n",
    "       0.00444826, 0.00414846, 0.00386887, 0.00360812, 0.00336494,\n",
    "       0.00313816, 0.00292665, 0.00272941, 0.00254546, 0.0023739 ,\n",
    "       0.00221391, 0.0020647 , 0.00192554, 0.00179577, 0.00167474,\n",
    "       0.00156187, 0.0014566 , 0.00135843, 0.00126688, 0.0011815 ,\n",
    "       0.00110187, 0.0010276 , 0.00095835, 0.00089376, 0.00083352]"
   ]
  },
  {
   "cell_type": "code",
   "execution_count": 63,
   "metadata": {},
   "outputs": [],
   "source": [
    "from sklearn.base import BaseEstimator, TransformerMixin\n",
    "class LassoTransformer(BaseEstimator, TransformerMixin):\n",
    "    \n",
    "    def __init__(self, alpha):\n",
    "        self.alpha = alpha\n",
    "        pass\n",
    "\n",
    "    def fit(self, X, y):\n",
    "        lasso = Lasso(alpha=self.alpha, fit_intercept=False, random_state=0)\n",
    "        lasso.fit(X, y)\n",
    "        self.coef_ = lasso.coef_\n",
    "        self.X_train = X[:,self.coef_!=0]\n",
    "        return self\n",
    "\n",
    "    def transform(self, X):\n",
    "        X_ = X.copy()\n",
    "        X_ = X_[:,self.coef_!=0]\n",
    "        return X_"
   ]
  },
  {
   "cell_type": "code",
   "execution_count": 64,
   "metadata": {},
   "outputs": [
    {
     "data": {
      "text/plain": [
       "model           LogisticRegression\n",
       "accuracy                  0.922222\n",
       "std_accuracy             0.0974996\n",
       "sensitivity                    0.9\n",
       "specificity                   0.94\n",
       "auc                           0.92\n",
       "feature_size                   106\n",
       "Name: 58, dtype: object"
      ]
     },
     "metadata": {},
     "output_type": "display_data"
    },
    {
     "data": {
      "text/plain": [
       "model           KNeighborsClassifier\n",
       "accuracy                    0.905556\n",
       "std_accuracy                0.112902\n",
       "sensitivity                   0.8125\n",
       "specificity                     0.98\n",
       "auc                          0.89625\n",
       "feature_size                      28\n",
       "Name: 24, dtype: object"
      ]
     },
     "metadata": {},
     "output_type": "display_data"
    },
    {
     "data": {
      "text/plain": [
       "model                 SVC\n",
       "accuracy         0.933333\n",
       "std_accuracy    0.0745356\n",
       "sensitivity        0.9125\n",
       "specificity          0.95\n",
       "auc               0.93125\n",
       "feature_size          153\n",
       "Name: 74, dtype: object"
      ]
     },
     "metadata": {},
     "output_type": "display_data"
    }
   ],
   "source": [
    "for name, model in models:\n",
    "    model = Pipeline([('ss', StandardScaler()), ('lt', LassoTransformer(alpha = 0.0)), (name, model)])\n",
    "    df = lasso_evaluation(model, X, y, kf, alpha_space)\n",
    "    display(df.iloc[df['auc'].argmax()])"
   ]
  },
  {
   "cell_type": "markdown",
   "metadata": {},
   "source": [
    "# Projection Methods for Feature Extraction."
   ]
  },
  {
   "cell_type": "code",
   "execution_count": 25,
   "metadata": {},
   "outputs": [
    {
     "name": "stdout",
     "output_type": "stream",
     "text": [
      "Best: 0.855556 using {'umap__n_components': 20}\n"
     ]
    }
   ],
   "source": [
    "pipe = make_pipeline(StandardScaler(), umap.UMAP(min_dist=0.9,n_components=2), LogisticRegression())\n",
    "\n",
    "gsc = GridSearchCV(\n",
    "    estimator=pipe,\n",
    "    param_grid={\n",
    "        'umap__n_components': (1,2,3,4,5,10,20,30,None)\n",
    "    },\n",
    "    scoring='accuracy',\n",
    "    cv=kf.split(X),\n",
    "    n_jobs = -1\n",
    ")\n",
    "\n",
    "grid_result = gsc.fit(X,y)\n",
    "\n",
    "print(\"Best: %f using %s\" % (grid_result.best_score_, grid_result.best_params_))"
   ]
  },
  {
   "cell_type": "markdown",
   "metadata": {},
   "source": [
    "# PCA"
   ]
  },
  {
   "cell_type": "code",
   "execution_count": 26,
   "metadata": {},
   "outputs": [
    {
     "data": {
      "text/plain": [
       "<matplotlib.collections.PathCollection at 0x2bd0a7749a0>"
      ]
     },
     "execution_count": 26,
     "metadata": {},
     "output_type": "execute_result"
    },
    {
     "data": {
      "image/png": "[encoded data removed]",
      "text/plain": [
       "<Figure size 360x360 with 1 Axes>"
      ]
     },
     "metadata": {
      "needs_background": "light"
     },
     "output_type": "display_data"
    }
   ],
   "source": [
    "plt.figure(figsize=(5,5))\n",
    "plt.title(\"PCA EEG\")\n",
    "\n",
    "# apply principal component analysis\n",
    "pca = PCA(n_components=2)\n",
    "pipe = make_pipeline(StandardScaler(), pca)\n",
    "X_2d = pipe.fit_transform(X)\n",
    "\n",
    "# plot each digit with a different color\n",
    "plt.scatter(X_2d[:,0], X_2d[:,1], c=y, cmap='rainbow')"
   ]
  },
  {
   "cell_type": "markdown",
   "metadata": {},
   "source": [
    "# TSNE"
   ]
  },
  {
   "cell_type": "code",
   "execution_count": 27,
   "metadata": {},
   "outputs": [
    {
     "data": {
      "text/plain": [
       "Text(0.5, 1.0, 'EEG tSNE')"
      ]
     },
     "execution_count": 27,
     "metadata": {},
     "output_type": "execute_result"
    },
    {
     "data": {
      "image/png": "[encoded data removed]",
      "text/plain": [
       "<Figure size 432x288 with 1 Axes>"
      ]
     },
     "metadata": {
      "needs_background": "light"
     },
     "output_type": "display_data"
    }
   ],
   "source": [
    "tsne  = sklearn.manifold.TSNE()\n",
    "pipe = make_pipeline(StandardScaler(), tsne)\n",
    "X_2d = pipe.fit_transform(X)\n",
    "\n",
    "# plot each digit with a different color\n",
    "plt.scatter(X_2d[:,0], X_2d[:,1], c=y, cmap='rainbow')\n",
    "plt.title(\"EEG tSNE\")"
   ]
  },
  {
   "cell_type": "markdown",
   "metadata": {},
   "source": [
    "# UMAP"
   ]
  },
  {
   "cell_type": "code",
   "execution_count": 28,
   "metadata": {},
   "outputs": [
    {
     "data": {
      "text/plain": [
       "Text(0.5, 1.0, 'UMAP tSNE')"
      ]
     },
     "execution_count": 28,
     "metadata": {},
     "output_type": "execute_result"
    },
    {
     "data": {
      "image/png": "[encoded data removed]",
      "text/plain": [
       "<Figure size 432x288 with 1 Axes>"
      ]
     },
     "metadata": {
      "needs_background": "light"
     },
     "output_type": "display_data"
    }
   ],
   "source": [
    "umap  = umap.UMAP(min_dist=0.9,n_components=2)\n",
    "pipe = make_pipeline(StandardScaler(), umap)\n",
    "X_2d = umap.fit_transform(X)\n",
    "\n",
    "# plot each digit with a different color\n",
    "plt.scatter(X_2d[:,0], X_2d[:,1], c=y, cmap='rainbow')\n",
    "plt.title(\"UMAP tSNE\")"
   ]
  }
 ],
 "metadata": {
  "kernelspec": {
   "display_name": "Python 3",
   "language": "python",
   "name": "python3"
  },
  "language_info": {
   "codemirror_mode": {
    "name": "ipython",
    "version": 3
   },
   "file_extension": ".py",
   "mimetype": "text/x-python",
   "name": "python",
   "nbconvert_exporter": "python",
   "pygments_lexer": "ipython3",
   "version": "3.8.8"
  }
 },
 "nbformat": 4,
 "nbformat_minor": 2
}
